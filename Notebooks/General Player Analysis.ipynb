{
 "cells": [
  {
   "cell_type": "markdown",
   "id": "858c22ff-cdea-436f-b8c6-6fa4e3451aff",
   "metadata": {},
   "source": [
    "## General Player Analysis\n",
    "\n",
    "So far, we have analyzed the data for 50 individual players, but we would like to be able to draw broader conclusions about the overall effect the first free throw has on the probability of making the second free throw generally for all players.\n",
    "\n",
    "To do this, we will define a logistic regression model with mixed effects.\n",
    "\n",
    "This will allow us to model the probability of a player making the second free throw, given the result of the first free throw, while accounting for the baseline free throw probabilities of individual players.\n",
    "\n",
    "We will then be able to look at the p-value for the shot1 coefficient to see if knowing the result of free throw 1 improves our ability to predict the probability of making free throw 2. If the p-value is statistically significant (< 0.05), it would indicate that the result of the first free throw (whether made or missed) has a significant effect on the likelihood of making the second free throw, beyond individual player baseline differences."
   ]
  },
  {
   "cell_type": "code",
   "execution_count": null,
   "id": "382b9106-bb51-4ce2-917b-10726520590a",
   "metadata": {},
   "outputs": [
    {
     "data": {
      "text/html": [
       "<div>\n",
       "<style scoped>\n",
       "    .dataframe tbody tr th:only-of-type {\n",
       "        vertical-align: middle;\n",
       "    }\n",
       "\n",
       "    .dataframe tbody tr th {\n",
       "        vertical-align: top;\n",
       "    }\n",
       "\n",
       "    .dataframe thead th {\n",
       "        text-align: right;\n",
       "    }\n",
       "</style>\n",
       "<table border=\"1\" class=\"dataframe\">\n",
       "  <thead>\n",
       "    <tr style=\"text-align: right;\">\n",
       "      <th></th>\n",
       "      <th>player</th>\n",
       "      <th>shot1</th>\n",
       "      <th>shot2</th>\n",
       "    </tr>\n",
       "  </thead>\n",
       "  <tbody>\n",
       "    <tr>\n",
       "      <th>0</th>\n",
       "      <td>Andrew Bynum</td>\n",
       "      <td>1</td>\n",
       "      <td>1</td>\n",
       "    </tr>\n",
       "    <tr>\n",
       "      <th>1</th>\n",
       "      <td>Andrew Bynum</td>\n",
       "      <td>1</td>\n",
       "      <td>0</td>\n",
       "    </tr>\n",
       "    <tr>\n",
       "      <th>2</th>\n",
       "      <td>Amare Stoudemire</td>\n",
       "      <td>1</td>\n",
       "      <td>1</td>\n",
       "    </tr>\n",
       "    <tr>\n",
       "      <th>3</th>\n",
       "      <td>Leandro Barbosa</td>\n",
       "      <td>0</td>\n",
       "      <td>1</td>\n",
       "    </tr>\n",
       "    <tr>\n",
       "      <th>4</th>\n",
       "      <td>Lamar Odom</td>\n",
       "      <td>1</td>\n",
       "      <td>1</td>\n",
       "    </tr>\n",
       "  </tbody>\n",
       "</table>\n",
       "</div>"
      ],
      "text/plain": [
       "             player  shot1  shot2\n",
       "0      Andrew Bynum      1      1\n",
       "1      Andrew Bynum      1      0\n",
       "2  Amare Stoudemire      1      1\n",
       "3   Leandro Barbosa      0      1\n",
       "4        Lamar Odom      1      1"
      ]
     },
     "execution_count": 9,
     "metadata": {},
     "output_type": "execute_result"
    }
   ],
   "source": [
    "import pandas as pd\n",
    "from pymer4.models import Lmer\n",
    "\n",
    "#Create a DataFrame by reading CSV\n",
    "df = pd.read_csv(r'free_throw_pairs.csv')\n",
    "\n",
    "df.head(5)"
   ]
  },
  {
   "cell_type": "code",
   "execution_count": null,
   "id": "34f1d915-4f0c-47ed-9aae-0e19e3697882",
   "metadata": {},
   "outputs": [
    {
     "name": "stdout",
     "output_type": "stream",
     "text": [
      "Linear mixed model fit by maximum likelihood  ['lmerMod']\n",
      "Formula: shot2~shot1+(1|player)\n",
      "\n",
      "Family: binomial\t Inference: parametric\n",
      "\n",
      "Number of observations: 263300\t Groups: {'player': 1091.0}\n",
      "\n",
      "Log-likelihood: -134317.664 \t AIC: 268641.329\n",
      "\n",
      "Random effects:\n",
      "\n",
      "               Name    Var    Std\n",
      "player  (Intercept)  0.271  0.521\n",
      "\n",
      "No random effect correlations specified\n",
      "\n",
      "Fixed effects:\n",
      "\n",
      "Linear mixed model fit by maximum likelihood  ['lmerMod']\n",
      "Formula: shot2~shot1+(1|player)\n",
      "\n",
      "Family: binomial\t Inference: parametric\n",
      "\n",
      "Number of observations: 263300\t Groups: {'player': 1091.0}\n",
      "\n",
      "Log-likelihood: -134317.664 \t AIC: 268641.329\n",
      "\n",
      "Random effects:\n",
      "\n",
      "               Name    Var    Std\n",
      "player  (Intercept)  0.271  0.521\n",
      "\n",
      "No random effect correlations specified\n",
      "\n",
      "Fixed effects:\n",
      "\n",
      "             Estimate  2.5_ci  97.5_ci     SE     OR  OR_2.5_ci  OR_97.5_ci  \\\n",
      "(Intercept)      1.09   1.050    1.130  0.020  2.974      2.857       3.096   \n",
      "shot1            0.14   0.119    0.161  0.011  1.151      1.127       1.175   \n",
      "\n",
      "              Prob  Prob_2.5_ci  Prob_97.5_ci  Z-stat  P-val  Sig  \n",
      "(Intercept)  0.748        0.741         0.756  53.314    0.0  ***  \n",
      "shot1        0.535        0.530         0.540  13.093    0.0  ***  \n"
     ]
    }
   ],
   "source": [
    "#Define the model that contains the fixed effect, shot1, and the random effect, \n",
    "# the unique baseline free throw ability of each player\n",
    "model = Lmer('shot2 ~ shot1 + (1 | player)', data=df, family='binomial')\n",
    "\n",
    "# Fit the model\n",
    "model.fit()\n",
    "\n",
    "# View model summary\n",
    "print(model.summary())"
   ]
  },
  {
   "cell_type": "markdown",
   "id": "2b04352f",
   "metadata": {},
   "source": [
    "Looking at our model summary, we see that shot1 is highly statistically significant in the model.\n",
    "\n",
    "Let's see how it effects our estimated free throw 2 probabilities to see if the difference is practically significant."
   ]
  },
  {
   "cell_type": "code",
   "execution_count": null,
   "id": "479c030b-e629-4bab-97ac-77f5d206e47a",
   "metadata": {},
   "outputs": [
    {
     "name": "stdout",
     "output_type": "stream",
     "text": [
      "Estimated second free throw probabilities:\n",
      "\n",
      "Ben Wallace missed first free throw: 0.4507\n",
      "Ben Wallace made first free throw: 0.4857\n",
      "Difference: 0.0350\n",
      "\n",
      "Shaquille O'Neal missed first free throw: 0.5590\n",
      "Shaquille O'Neal made first free throw: 0.5933\n",
      "Difference: 0.0343\n",
      "\n",
      "LeBron James missed first free throw: 0.7611\n",
      "LeBron James made first free throw: 0.7857\n",
      "Difference: 0.0246\n",
      "\n",
      "Stephen Curry missed first free throw: 0.9041\n",
      "Stephen Curry made first free throw: 0.9156\n",
      "Difference: 0.0115\n",
      "\n"
     ]
    }
   ],
   "source": [
    "def free_throw_compare(player_list):\n",
    "    print(\"Estimated second free throw probabilities:\\n\")\n",
    "    for player in player_list:\n",
    "        missed_first = pd.DataFrame({\n",
    "            'shot1': [0],\n",
    "            'player': [player]})\n",
    "        made_first = pd.DataFrame({\n",
    "            'shot1': [1],\n",
    "            'player': [player]})\n",
    "        prob_miss = model.predict(missed_first)[0]\n",
    "        prob_make = model.predict(made_first)[0]\n",
    "        difference = prob_make - prob_miss\n",
    "        print(f\"{player} missed first free throw: {prob_miss:.4f}\")\n",
    "        print(f\"{player} made first free throw: {prob_make:.4f}\")\n",
    "        print(f\"Difference: {difference:.4f}\\n\")\n",
    "\n",
    "player_list = [\"Ben Wallace\", \"Shaquille O'Neal\", \n",
    "               \"LeBron James\", \"Stephen Curry\"]\n",
    "\n",
    "free_throw_compare(player_list)"
   ]
  },
  {
   "cell_type": "markdown",
   "id": "5beb5638",
   "metadata": {},
   "source": [
    "From our model predictions, we can see that making the first free throw increases the probability of making the second free throw by roughly 1.2-3.5% depending on the player's average free throw percentage.\n",
    "\n",
    "We can conclude that the result of the second free throw is not independent of the result of the first. However, while the statistical significance of the effect is clear, whether or not a difference of 1.2-3.5% is practically significant is less clear."
   ]
  }
 ],
 "metadata": {
  "kernelspec": {
   "display_name": "Python 3",
   "language": "python",
   "name": "python3"
  },
  "language_info": {
   "codemirror_mode": {
    "name": "ipython",
    "version": 3
   },
   "file_extension": ".py",
   "mimetype": "text/x-python",
   "name": "python",
   "nbconvert_exporter": "python",
   "pygments_lexer": "ipython3",
   "version": "3.9.1"
  }
 },
 "nbformat": 4,
 "nbformat_minor": 5
}
